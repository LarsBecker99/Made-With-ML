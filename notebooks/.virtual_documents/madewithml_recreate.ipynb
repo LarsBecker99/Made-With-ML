


import ray


# Initialize Ray
if ray.is_initialized():
    ray.shutdown()
ray.init()


ray.cluster_resources()





### Workers (1 g4dn.xlarge)
num_workers = 4
resources_per_worker={"CPU": 1, "GPU": 0}



